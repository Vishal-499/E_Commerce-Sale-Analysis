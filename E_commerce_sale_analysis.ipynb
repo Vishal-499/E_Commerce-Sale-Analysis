{
 "cells": [
  {
   "cell_type": "code",
   "execution_count": 1,
   "id": "4b70e378-0295-4059-99c8-f160773e5cba",
   "metadata": {},
   "outputs": [],
   "source": [
    "import pandas as pd\n",
    "import matplotlib.pyplot as plt\n",
    "import seaborn as sns\n",
    "import mysql.connector"
   ]
  },
  {
   "cell_type": "code",
   "execution_count": 2,
   "id": "50a65cec-b0fe-4ccd-9df7-2d6cb0f8e6a3",
   "metadata": {},
   "outputs": [],
   "source": [
    "conn = mysql.connector.connect(\n",
    "    host='localhost',\n",
    "    user='root',\n",
    "    password='root',\n",
    "    database='e_commerce'\n",
    ")"
   ]
  },
  {
   "cell_type": "code",
   "execution_count": 3,
   "id": "35f931ca-e4e1-4f78-b48d-5e6478f17af2",
   "metadata": {},
   "outputs": [],
   "source": [
    "cur = conn.cursor()"
   ]
  },
  {
   "cell_type": "markdown",
   "id": "2f9161e5-3618-47a1-a53e-8bd0eea65361",
   "metadata": {},
   "source": [
    "# List of all unique city where cusotmers are located"
   ]
  },
  {
   "cell_type": "code",
   "execution_count": 4,
   "id": "c402a380-b3e8-455a-b8e3-7fc1850dde94",
   "metadata": {},
   "outputs": [
    {
     "data": {
      "text/html": [
       "<div>\n",
       "<style scoped>\n",
       "    .dataframe tbody tr th:only-of-type {\n",
       "        vertical-align: middle;\n",
       "    }\n",
       "\n",
       "    .dataframe tbody tr th {\n",
       "        vertical-align: top;\n",
       "    }\n",
       "\n",
       "    .dataframe thead th {\n",
       "        text-align: right;\n",
       "    }\n",
       "</style>\n",
       "<table border=\"1\" class=\"dataframe\">\n",
       "  <thead>\n",
       "    <tr style=\"text-align: right;\">\n",
       "      <th></th>\n",
       "      <th>distinct_city</th>\n",
       "    </tr>\n",
       "  </thead>\n",
       "  <tbody>\n",
       "    <tr>\n",
       "      <th>0</th>\n",
       "      <td>franca</td>\n",
       "    </tr>\n",
       "    <tr>\n",
       "      <th>1</th>\n",
       "      <td>sao bernardo do campo</td>\n",
       "    </tr>\n",
       "    <tr>\n",
       "      <th>2</th>\n",
       "      <td>sao paulo</td>\n",
       "    </tr>\n",
       "    <tr>\n",
       "      <th>3</th>\n",
       "      <td>mogi das cruzes</td>\n",
       "    </tr>\n",
       "    <tr>\n",
       "      <th>4</th>\n",
       "      <td>campinas</td>\n",
       "    </tr>\n",
       "  </tbody>\n",
       "</table>\n",
       "</div>"
      ],
      "text/plain": [
       "           distinct_city\n",
       "0                 franca\n",
       "1  sao bernardo do campo\n",
       "2              sao paulo\n",
       "3        mogi das cruzes\n",
       "4               campinas"
      ]
     },
     "execution_count": 4,
     "metadata": {},
     "output_type": "execute_result"
    }
   ],
   "source": [
    "query = ''' SELECT distinct customer_City FROM customers'''\n",
    "cur.execute(query)\n",
    "data = cur.fetchall()\n",
    "df = pd.DataFrame(data,columns=['distinct_city'])\n",
    "df.head()"
   ]
  },
  {
   "cell_type": "markdown",
   "id": "fe5a55bd-b2fc-434c-a73a-1713a326d30c",
   "metadata": {},
   "source": [
    "# Count the no. of order placed in 2017"
   ]
  },
  {
   "cell_type": "code",
   "execution_count": 5,
   "id": "7f245513-6ddb-46c7-982d-b2fb4f7e4d58",
   "metadata": {},
   "outputs": [
    {
     "data": {
      "text/plain": [
       "45101"
      ]
     },
     "execution_count": 5,
     "metadata": {},
     "output_type": "execute_result"
    }
   ],
   "source": [
    "query = ''' SELECT count(order_id) FROM orders WHERE YEAR(order_purchase_timestamp) = 2017'''\n",
    "cur.execute(query)\n",
    "data = cur.fetchall()\n",
    "data[0][0]"
   ]
  },
  {
   "cell_type": "markdown",
   "id": "219d0aac-c636-4267-8443-2d40ba9fb359",
   "metadata": {},
   "source": [
    "# Find the total sales per category"
   ]
  },
  {
   "cell_type": "code",
   "execution_count": 6,
   "id": "47e5a11e-8d0f-4929-943f-0fe3ee99b236",
   "metadata": {},
   "outputs": [
    {
     "data": {
      "text/html": [
       "<div>\n",
       "<style scoped>\n",
       "    .dataframe tbody tr th:only-of-type {\n",
       "        vertical-align: middle;\n",
       "    }\n",
       "\n",
       "    .dataframe tbody tr th {\n",
       "        vertical-align: top;\n",
       "    }\n",
       "\n",
       "    .dataframe thead th {\n",
       "        text-align: right;\n",
       "    }\n",
       "</style>\n",
       "<table border=\"1\" class=\"dataframe\">\n",
       "  <thead>\n",
       "    <tr style=\"text-align: right;\">\n",
       "      <th></th>\n",
       "      <th>category</th>\n",
       "      <th>total_sale</th>\n",
       "    </tr>\n",
       "  </thead>\n",
       "  <tbody>\n",
       "    <tr>\n",
       "      <th>0</th>\n",
       "      <td>HEALTH BEAUTY</td>\n",
       "      <td>36689303.29</td>\n",
       "    </tr>\n",
       "    <tr>\n",
       "      <th>1</th>\n",
       "      <td>sport leisure</td>\n",
       "      <td>30064636.30</td>\n",
       "    </tr>\n",
       "    <tr>\n",
       "      <th>2</th>\n",
       "      <td>Cool Stuff</td>\n",
       "      <td>20372374.03</td>\n",
       "    </tr>\n",
       "    <tr>\n",
       "      <th>3</th>\n",
       "      <td>computer accessories</td>\n",
       "      <td>21711594.59</td>\n",
       "    </tr>\n",
       "    <tr>\n",
       "      <th>4</th>\n",
       "      <td>Watches present</td>\n",
       "      <td>24662365.80</td>\n",
       "    </tr>\n",
       "  </tbody>\n",
       "</table>\n",
       "</div>"
      ],
      "text/plain": [
       "               category   total_sale\n",
       "0         HEALTH BEAUTY  36689303.29\n",
       "1         sport leisure  30064636.30\n",
       "2            Cool Stuff  20372374.03\n",
       "3  computer accessories  21711594.59\n",
       "4       Watches present  24662365.80"
      ]
     },
     "execution_count": 6,
     "metadata": {},
     "output_type": "execute_result"
    }
   ],
   "source": [
    "query = '''SELECT p.product_category, ROUND(SUM(oi.price*oi.freight_value),2) as total_sale FROM order_item oi JOIN products p ON p.product_id = \n",
    "             oi.product_id GROUP BY p.product_category'''\n",
    "cur.execute(query)\n",
    "data = cur.fetchall()\n",
    "df = pd.DataFrame(data,columns=['category','total_sale'])\n",
    "df.head()"
   ]
  },
  {
   "cell_type": "code",
   "execution_count": 7,
   "id": "a23cc413-4f3c-4547-b90a-245eaabe00a4",
   "metadata": {},
   "outputs": [],
   "source": [
    "query = '''SELECT p.product_category,ROUND(SUM(py.payment_value),2) as total_sale FROM products p JOIN order_item o ON o.product_id = p.product_id \n",
    "           JOIN payments py ON py.order_id = o.order_id GROUP BY p.product_category;'''\n",
    "cur.execute(query)\n",
    "data = cur.fetchall()\n",
    "df = pd.DataFrame(data)"
   ]
  },
  {
   "cell_type": "code",
   "execution_count": 8,
   "id": "3df270ab-f767-45a2-841c-0f09c7f3e187",
   "metadata": {},
   "outputs": [
    {
     "data": {
      "text/html": [
       "<div>\n",
       "<style scoped>\n",
       "    .dataframe tbody tr th:only-of-type {\n",
       "        vertical-align: middle;\n",
       "    }\n",
       "\n",
       "    .dataframe tbody tr th {\n",
       "        vertical-align: top;\n",
       "    }\n",
       "\n",
       "    .dataframe thead th {\n",
       "        text-align: right;\n",
       "    }\n",
       "</style>\n",
       "<table border=\"1\" class=\"dataframe\">\n",
       "  <thead>\n",
       "    <tr style=\"text-align: right;\">\n",
       "      <th></th>\n",
       "      <th>Category</th>\n",
       "      <th>total_sale</th>\n",
       "    </tr>\n",
       "  </thead>\n",
       "  <tbody>\n",
       "    <tr>\n",
       "      <th>0</th>\n",
       "      <td>perfumery</td>\n",
       "      <td>506738.66</td>\n",
       "    </tr>\n",
       "    <tr>\n",
       "      <th>1</th>\n",
       "      <td>Furniture Decoration</td>\n",
       "      <td>1430176.39</td>\n",
       "    </tr>\n",
       "    <tr>\n",
       "      <th>2</th>\n",
       "      <td>telephony</td>\n",
       "      <td>486882.05</td>\n",
       "    </tr>\n",
       "    <tr>\n",
       "      <th>3</th>\n",
       "      <td>bed table bath</td>\n",
       "      <td>1712553.67</td>\n",
       "    </tr>\n",
       "    <tr>\n",
       "      <th>4</th>\n",
       "      <td>automotive</td>\n",
       "      <td>852294.33</td>\n",
       "    </tr>\n",
       "  </tbody>\n",
       "</table>\n",
       "</div>"
      ],
      "text/plain": [
       "               Category  total_sale\n",
       "0             perfumery   506738.66\n",
       "1  Furniture Decoration  1430176.39\n",
       "2             telephony   486882.05\n",
       "3        bed table bath  1712553.67\n",
       "4            automotive   852294.33"
      ]
     },
     "execution_count": 8,
     "metadata": {},
     "output_type": "execute_result"
    }
   ],
   "source": [
    "df = pd.DataFrame(data ,columns=['Category','total_sale'])\n",
    "df.head(5)"
   ]
  },
  {
   "cell_type": "markdown",
   "id": "03624e09-ad9c-42e3-b994-9a3d9626c7ae",
   "metadata": {},
   "source": [
    "# Calculate the Percentage of order that was paid on EMI"
   ]
  },
  {
   "cell_type": "code",
   "execution_count": 9,
   "id": "f0b1bb7f-66aa-49b6-8287-859fa70c0a08",
   "metadata": {},
   "outputs": [
    {
     "data": {
      "text/plain": [
       "[(Decimal('49.4176'),)]"
      ]
     },
     "execution_count": 9,
     "metadata": {},
     "output_type": "execute_result"
    }
   ],
   "source": [
    "query = '''SELECT SUM(CASE WHEN payment_installments >1 THEN 1 ELSE 0 END)*100/COUNT(*)  FROM payments;'''\n",
    "cur.execute(query)\n",
    "data = cur.fetchall()\n",
    "data"
   ]
  },
  {
   "cell_type": "code",
   "execution_count": null,
   "id": "25eea173-b0df-46ac-9820-997010adcca4",
   "metadata": {},
   "outputs": [],
   "source": []
  },
  {
   "cell_type": "markdown",
   "id": "72257cbb-c164-4dc2-a852-866bc6e8644d",
   "metadata": {},
   "source": [
    "# Count the no. of Customers from each state"
   ]
  },
  {
   "cell_type": "code",
   "execution_count": 10,
   "id": "fb6f7ee3-a4b1-4eff-8cbb-3e0cd0c9f5f2",
   "metadata": {},
   "outputs": [],
   "source": [
    "query = '''SELECT customer_state,COUNT(customer_id) FROM customers\n",
    "            GROUP BY customer_state;'''\n",
    "cur.execute(query)\n",
    "data = cur.fetchall()\n",
    "df = pd.DataFrame(data,columns=['state','customer_count'])"
   ]
  },
  {
   "cell_type": "code",
   "execution_count": 11,
   "id": "7a47d116-4d2f-4840-905c-e324a19339f4",
   "metadata": {},
   "outputs": [
    {
     "data": {
      "image/png": "[encoded data removed]",
      "text/plain": [
       "<Figure size 600x300 with 1 Axes>"
      ]
     },
     "metadata": {},
     "output_type": "display_data"
    }
   ],
   "source": [
    "df_sorted = df.sort_values('customer_count',ascending=False)\n",
    "plt.figure(figsize=(6,3))\n",
    "plt.bar(df_sorted['state'],df_sorted['customer_count'])\n",
    "plt.xticks(rotation=90)\n",
    "plt.show()"
   ]
  },
  {
   "cell_type": "markdown",
   "id": "9d5b435e-1bb5-428e-8952-33959128715a",
   "metadata": {},
   "source": [
    "# Calculate no. of orders by month in year 2018"
   ]
  },
  {
   "cell_type": "code",
   "execution_count": 13,
   "id": "cda467b5-132a-4fe3-b2d9-935e5d8a9f2b",
   "metadata": {},
   "outputs": [
    {
     "data": {
      "image/png": "[encoded data removed]",
      "text/plain": [
       "<Figure size 600x500 with 1 Axes>"
      ]
     },
     "metadata": {},
     "output_type": "display_data"
    }
   ],
   "source": [
    "query = '''SELECT date_format(order_purchase_timestamp,'%b') as mnth,COUNT(order_id) as no_of_orders,month(order_purchase_timestamp) as mnth_1\n",
    "           FROM orders WHERE YEAR(order_purchase_timestamp) = 2018 GROUP BY mnth,mnth_1 order by mnth_1;'''\n",
    "cur.execute(query)\n",
    "data = cur.fetchall()\n",
    "df = pd.DataFrame(data,columns=['month','no_of_orders','a'])\n",
    "plt.figure(figsize=(6,5))\n",
    "ax = sns.barplot(x='month',y='no_of_orders',data=df,color='g')\n",
    "ax.bar_label(ax.containers[0])\n",
    "plt.title('Count of orders by month in 2018')\n",
    "plt.show()"
   ]
  },
  {
   "cell_type": "code",
   "execution_count": null,
   "id": "ee708823-95bd-45a8-8657-ac3e1d199b57",
   "metadata": {},
   "outputs": [],
   "source": []
  },
  {
   "cell_type": "markdown",
   "id": "2acf4257-9658-408d-a3e9-6aeae14c278b",
   "metadata": {},
   "source": [
    "# Find the average no. of products per order,grouped by customer city "
   ]
  },
  {
   "cell_type": "code",
   "execution_count": 14,
   "id": "3d37e6bb-531a-44cd-999d-004f662d2eea",
   "metadata": {},
   "outputs": [
    {
     "data": {
      "text/html": [
       "<div>\n",
       "<style scoped>\n",
       "    .dataframe tbody tr th:only-of-type {\n",
       "        vertical-align: middle;\n",
       "    }\n",
       "\n",
       "    .dataframe tbody tr th {\n",
       "        vertical-align: top;\n",
       "    }\n",
       "\n",
       "    .dataframe thead th {\n",
       "        text-align: right;\n",
       "    }\n",
       "</style>\n",
       "<table border=\"1\" class=\"dataframe\">\n",
       "  <thead>\n",
       "    <tr style=\"text-align: right;\">\n",
       "      <th></th>\n",
       "      <th>customer_coty</th>\n",
       "      <th>avg_no_of_order</th>\n",
       "    </tr>\n",
       "  </thead>\n",
       "  <tbody>\n",
       "    <tr>\n",
       "      <th>0</th>\n",
       "      <td>sao paulo</td>\n",
       "      <td>1.16</td>\n",
       "    </tr>\n",
       "    <tr>\n",
       "      <th>1</th>\n",
       "      <td>sao jose dos campos</td>\n",
       "      <td>1.14</td>\n",
       "    </tr>\n",
       "    <tr>\n",
       "      <th>2</th>\n",
       "      <td>porto alegre</td>\n",
       "      <td>1.17</td>\n",
       "    </tr>\n",
       "    <tr>\n",
       "      <th>3</th>\n",
       "      <td>indaial</td>\n",
       "      <td>1.12</td>\n",
       "    </tr>\n",
       "    <tr>\n",
       "      <th>4</th>\n",
       "      <td>treze tilias</td>\n",
       "      <td>1.27</td>\n",
       "    </tr>\n",
       "  </tbody>\n",
       "</table>\n",
       "</div>"
      ],
      "text/plain": [
       "         customer_coty avg_no_of_order\n",
       "0            sao paulo            1.16\n",
       "1  sao jose dos campos            1.14\n",
       "2         porto alegre            1.17\n",
       "3              indaial            1.12\n",
       "4         treze tilias            1.27"
      ]
     },
     "execution_count": 14,
     "metadata": {},
     "output_type": "execute_result"
    }
   ],
   "source": [
    "query = '''With count_per_order as (SELECT oi.order_id,customer_id,COUNT(oi.order_id) as oc FROM order_item oi JOIN orders o ON o.order_id = oi.order_id\n",
    "           GROUP BY oi.order_id,customer_id) SELECT c.customer_city,ROUND(AVG(oc),2) avrg_orders   FROM customers c JOIN count_per_order co \n",
    "           ON co.customer_id = c.customer_id GROUP BY c.customer_city;'''\n",
    "cur.execute(query)\n",
    "data = cur.fetchall()\n",
    "df = pd.DataFrame(data,columns=['customer_coty','avg_no_of_order'])\n",
    "df.head()"
   ]
  },
  {
   "cell_type": "markdown",
   "id": "2f0a1210-748c-493f-8c6d-fbaaa769e72c",
   "metadata": {},
   "source": [
    "# Calculate the percentage of total revenue contributed by each product category"
   ]
  },
  {
   "cell_type": "code",
   "execution_count": 15,
   "id": "292512cb-c538-4d4b-86c5-2153b42ba351",
   "metadata": {},
   "outputs": [
    {
     "data": {
      "text/html": [
       "<div>\n",
       "<style scoped>\n",
       "    .dataframe tbody tr th:only-of-type {\n",
       "        vertical-align: middle;\n",
       "    }\n",
       "\n",
       "    .dataframe tbody tr th {\n",
       "        vertical-align: top;\n",
       "    }\n",
       "\n",
       "    .dataframe thead th {\n",
       "        text-align: right;\n",
       "    }\n",
       "</style>\n",
       "<table border=\"1\" class=\"dataframe\">\n",
       "  <thead>\n",
       "    <tr style=\"text-align: right;\">\n",
       "      <th></th>\n",
       "      <th>product_category</th>\n",
       "      <th>sales_percentage</th>\n",
       "    </tr>\n",
       "  </thead>\n",
       "  <tbody>\n",
       "    <tr>\n",
       "      <th>0</th>\n",
       "      <td>perfumery</td>\n",
       "      <td>0.03</td>\n",
       "    </tr>\n",
       "    <tr>\n",
       "      <th>1</th>\n",
       "      <td>Furniture Decoration</td>\n",
       "      <td>0.09</td>\n",
       "    </tr>\n",
       "    <tr>\n",
       "      <th>2</th>\n",
       "      <td>telephony</td>\n",
       "      <td>0.03</td>\n",
       "    </tr>\n",
       "    <tr>\n",
       "      <th>3</th>\n",
       "      <td>bed table bath</td>\n",
       "      <td>0.11</td>\n",
       "    </tr>\n",
       "    <tr>\n",
       "      <th>4</th>\n",
       "      <td>automotive</td>\n",
       "      <td>0.05</td>\n",
       "    </tr>\n",
       "  </tbody>\n",
       "</table>\n",
       "</div>"
      ],
      "text/plain": [
       "       product_category  sales_percentage\n",
       "0             perfumery              0.03\n",
       "1  Furniture Decoration              0.09\n",
       "2             telephony              0.03\n",
       "3        bed table bath              0.11\n",
       "4            automotive              0.05"
      ]
     },
     "execution_count": 15,
     "metadata": {},
     "output_type": "execute_result"
    }
   ],
   "source": [
    "query = '''SELECT p.product_category,ROUND(SUM(py.payment_value)/(SELECT SUM(payment_value) FROM payments),2) as sales_percentage \n",
    "           FROM products p JOIN order_item o ON o.product_id = p.product_id JOIN payments py ON py.order_id = o.order_id \n",
    "           GROUP BY p.product_category;'''\n",
    "cur.execute(query)\n",
    "data = cur.fetchall()\n",
    "df = pd.DataFrame(data,columns=['product_category','sales_percentage'])\n",
    "df.head()                  "
   ]
  },
  {
   "cell_type": "code",
   "execution_count": null,
   "id": "cb8c000b-0f67-4826-88ae-d9d3131cbd31",
   "metadata": {},
   "outputs": [],
   "source": []
  },
  {
   "cell_type": "markdown",
   "id": "52233c52-c92f-49fc-9ad3-1114b33ea648",
   "metadata": {},
   "source": [
    "# Identify the correlation between product price and the number of times a product has been purchased."
   ]
  },
  {
   "cell_type": "code",
   "execution_count": 16,
   "id": "2b128580-977c-492f-b94f-8f803d26f62c",
   "metadata": {},
   "outputs": [
    {
     "data": {
      "text/html": [
       "<div>\n",
       "<style scoped>\n",
       "    .dataframe tbody tr th:only-of-type {\n",
       "        vertical-align: middle;\n",
       "    }\n",
       "\n",
       "    .dataframe tbody tr th {\n",
       "        vertical-align: top;\n",
       "    }\n",
       "\n",
       "    .dataframe thead th {\n",
       "        text-align: right;\n",
       "    }\n",
       "</style>\n",
       "<table border=\"1\" class=\"dataframe\">\n",
       "  <thead>\n",
       "    <tr style=\"text-align: right;\">\n",
       "      <th></th>\n",
       "      <th>product_category</th>\n",
       "      <th>order_count</th>\n",
       "      <th>price</th>\n",
       "    </tr>\n",
       "  </thead>\n",
       "  <tbody>\n",
       "    <tr>\n",
       "      <th>0</th>\n",
       "      <td>HEALTH BEAUTY</td>\n",
       "      <td>9670</td>\n",
       "      <td>130.16</td>\n",
       "    </tr>\n",
       "    <tr>\n",
       "      <th>1</th>\n",
       "      <td>sport leisure</td>\n",
       "      <td>8641</td>\n",
       "      <td>114.34</td>\n",
       "    </tr>\n",
       "    <tr>\n",
       "      <th>2</th>\n",
       "      <td>Cool Stuff</td>\n",
       "      <td>3796</td>\n",
       "      <td>167.36</td>\n",
       "    </tr>\n",
       "    <tr>\n",
       "      <th>3</th>\n",
       "      <td>computer accessories</td>\n",
       "      <td>7827</td>\n",
       "      <td>116.51</td>\n",
       "    </tr>\n",
       "    <tr>\n",
       "      <th>4</th>\n",
       "      <td>Watches present</td>\n",
       "      <td>5991</td>\n",
       "      <td>201.14</td>\n",
       "    </tr>\n",
       "  </tbody>\n",
       "</table>\n",
       "</div>"
      ],
      "text/plain": [
       "       product_category  order_count   price\n",
       "0         HEALTH BEAUTY         9670  130.16\n",
       "1         sport leisure         8641  114.34\n",
       "2            Cool Stuff         3796  167.36\n",
       "3  computer accessories         7827  116.51\n",
       "4       Watches present         5991  201.14"
      ]
     },
     "execution_count": 16,
     "metadata": {},
     "output_type": "execute_result"
    }
   ],
   "source": [
    "query = '''SELECT product_category,COUNT(oi.product_id) as cnt,round(avg(price),2) as avg_price FROM products p JOIN order_item oi ON oi.product_id = \n",
    "            p.product_id GROUP BY product_category;'''\n",
    "cur.execute(query)\n",
    "data = cur.fetchall()\n",
    "df = pd.DataFrame(data,columns=['product_category','order_count','price'])\n",
    "df.head()"
   ]
  },
  {
   "cell_type": "code",
   "execution_count": 17,
   "id": "d4ecbbf5-61c0-4136-9481-be7317ca0d3a",
   "metadata": {},
   "outputs": [
    {
     "data": {
      "text/html": [
       "<div>\n",
       "<style scoped>\n",
       "    .dataframe tbody tr th:only-of-type {\n",
       "        vertical-align: middle;\n",
       "    }\n",
       "\n",
       "    .dataframe tbody tr th {\n",
       "        vertical-align: top;\n",
       "    }\n",
       "\n",
       "    .dataframe thead th {\n",
       "        text-align: right;\n",
       "    }\n",
       "</style>\n",
       "<table border=\"1\" class=\"dataframe\">\n",
       "  <thead>\n",
       "    <tr style=\"text-align: right;\">\n",
       "      <th></th>\n",
       "      <th>order_count</th>\n",
       "      <th>price</th>\n",
       "    </tr>\n",
       "  </thead>\n",
       "  <tbody>\n",
       "    <tr>\n",
       "      <th>order_count</th>\n",
       "      <td>1.000000</td>\n",
       "      <td>-0.106315</td>\n",
       "    </tr>\n",
       "    <tr>\n",
       "      <th>price</th>\n",
       "      <td>-0.106315</td>\n",
       "      <td>1.000000</td>\n",
       "    </tr>\n",
       "  </tbody>\n",
       "</table>\n",
       "</div>"
      ],
      "text/plain": [
       "             order_count     price\n",
       "order_count     1.000000 -0.106315\n",
       "price          -0.106315  1.000000"
      ]
     },
     "execution_count": 17,
     "metadata": {},
     "output_type": "execute_result"
    }
   ],
   "source": [
    "df[['order_count','price']].corr()"
   ]
  },
  {
   "cell_type": "code",
   "execution_count": null,
   "id": "04e33627-7eb6-4888-b7bc-5d56012903b5",
   "metadata": {},
   "outputs": [],
   "source": []
  },
  {
   "cell_type": "markdown",
   "id": "4597a3e7-70f1-491b-a1fe-ba9d5b42a684",
   "metadata": {},
   "source": [
    "# Calculate the total revenue generated by each seller, and rank them by revenue."
   ]
  },
  {
   "cell_type": "code",
   "execution_count": 18,
   "id": "3a1c5846-a3b4-44d1-9c72-b6a3e047b1c0",
   "metadata": {},
   "outputs": [
    {
     "data": {
      "text/html": [
       "<div>\n",
       "<style scoped>\n",
       "    .dataframe tbody tr th:only-of-type {\n",
       "        vertical-align: middle;\n",
       "    }\n",
       "\n",
       "    .dataframe tbody tr th {\n",
       "        vertical-align: top;\n",
       "    }\n",
       "\n",
       "    .dataframe thead th {\n",
       "        text-align: right;\n",
       "    }\n",
       "</style>\n",
       "<table border=\"1\" class=\"dataframe\">\n",
       "  <thead>\n",
       "    <tr style=\"text-align: right;\">\n",
       "      <th></th>\n",
       "      <th>seller_id</th>\n",
       "      <th>revenue</th>\n",
       "      <th>rank</th>\n",
       "    </tr>\n",
       "  </thead>\n",
       "  <tbody>\n",
       "    <tr>\n",
       "      <th>0</th>\n",
       "      <td>7c67e1448b00f6e969d365cea6b010ab</td>\n",
       "      <td>507166.907302</td>\n",
       "      <td>1</td>\n",
       "    </tr>\n",
       "    <tr>\n",
       "      <th>1</th>\n",
       "      <td>1025f0e2d44d7041d6cf58b6550e0bfa</td>\n",
       "      <td>308222.039840</td>\n",
       "      <td>2</td>\n",
       "    </tr>\n",
       "    <tr>\n",
       "      <th>2</th>\n",
       "      <td>4a3ca9315b744ce9f8e9374361493884</td>\n",
       "      <td>301245.269765</td>\n",
       "      <td>3</td>\n",
       "    </tr>\n",
       "    <tr>\n",
       "      <th>3</th>\n",
       "      <td>1f50f920176fa81dab994f9023523100</td>\n",
       "      <td>290253.420128</td>\n",
       "      <td>4</td>\n",
       "    </tr>\n",
       "    <tr>\n",
       "      <th>4</th>\n",
       "      <td>53243585a1d6dc2643021fd1853d8905</td>\n",
       "      <td>284903.080498</td>\n",
       "      <td>5</td>\n",
       "    </tr>\n",
       "  </tbody>\n",
       "</table>\n",
       "</div>"
      ],
      "text/plain": [
       "                          seller_id        revenue  rank\n",
       "0  7c67e1448b00f6e969d365cea6b010ab  507166.907302     1\n",
       "1  1025f0e2d44d7041d6cf58b6550e0bfa  308222.039840     2\n",
       "2  4a3ca9315b744ce9f8e9374361493884  301245.269765     3\n",
       "3  1f50f920176fa81dab994f9023523100  290253.420128     4\n",
       "4  53243585a1d6dc2643021fd1853d8905  284903.080498     5"
      ]
     },
     "execution_count": 18,
     "metadata": {},
     "output_type": "execute_result"
    }
   ],
   "source": [
    "query = '''WITH seller_revenue as(SELECT oi.seller_id,SUM(payment_value) as total_revenue FROM order_item oi JOIN payments p ON p.order_id = \n",
    "           oi.order_id GROUP BY oi.seller_id) SELECT * ,dense_rank() over(order by total_revenue desc) as rnk FROM seller_revenue;'''\n",
    "cur.execute(query)\n",
    "data = cur.fetchall()\n",
    "df = pd.DataFrame(data,columns=['seller_id','revenue','rank'])\n",
    "df.head()"
   ]
  },
  {
   "cell_type": "code",
   "execution_count": null,
   "id": "4d9a5be5-f61a-4ddb-8f99-906882a0ac06",
   "metadata": {},
   "outputs": [],
   "source": []
  },
  {
   "cell_type": "markdown",
   "id": "94d49239-ce4a-40d0-8abe-784164e35941",
   "metadata": {},
   "source": [
    "# Calculate the moving average of order values for each customer over their order history."
   ]
  },
  {
   "cell_type": "code",
   "execution_count": 19,
   "id": "968bc9b8-73b7-4e09-8bc8-f3d517224f3d",
   "metadata": {},
   "outputs": [
    {
     "data": {
      "text/html": [
       "<div>\n",
       "<style scoped>\n",
       "    .dataframe tbody tr th:only-of-type {\n",
       "        vertical-align: middle;\n",
       "    }\n",
       "\n",
       "    .dataframe tbody tr th {\n",
       "        vertical-align: top;\n",
       "    }\n",
       "\n",
       "    .dataframe thead th {\n",
       "        text-align: right;\n",
       "    }\n",
       "</style>\n",
       "<table border=\"1\" class=\"dataframe\">\n",
       "  <thead>\n",
       "    <tr style=\"text-align: right;\">\n",
       "      <th></th>\n",
       "      <th>customer_id</th>\n",
       "      <th>timestamp</th>\n",
       "      <th>payment</th>\n",
       "      <th>avg_cumulative_payment</th>\n",
       "    </tr>\n",
       "  </thead>\n",
       "  <tbody>\n",
       "    <tr>\n",
       "      <th>0</th>\n",
       "      <td>00012a2ce6f8dcda20d059ce98491703</td>\n",
       "      <td>2017-11-14 16:08:26</td>\n",
       "      <td>114.74</td>\n",
       "      <td>114.739998</td>\n",
       "    </tr>\n",
       "    <tr>\n",
       "      <th>1</th>\n",
       "      <td>000161a058600d5901f007fab4c27140</td>\n",
       "      <td>2017-07-16 09:40:32</td>\n",
       "      <td>67.41</td>\n",
       "      <td>67.410004</td>\n",
       "    </tr>\n",
       "    <tr>\n",
       "      <th>2</th>\n",
       "      <td>0001fd6190edaaf884bcaf3d49edf079</td>\n",
       "      <td>2017-02-28 11:06:43</td>\n",
       "      <td>195.42</td>\n",
       "      <td>195.419998</td>\n",
       "    </tr>\n",
       "    <tr>\n",
       "      <th>3</th>\n",
       "      <td>0002414f95344307404f0ace7a26f1d5</td>\n",
       "      <td>2017-08-16 13:09:20</td>\n",
       "      <td>179.35</td>\n",
       "      <td>179.350006</td>\n",
       "    </tr>\n",
       "    <tr>\n",
       "      <th>4</th>\n",
       "      <td>000379cdec625522490c315e70c7a9fb</td>\n",
       "      <td>2018-04-02 13:42:17</td>\n",
       "      <td>107.01</td>\n",
       "      <td>107.010002</td>\n",
       "    </tr>\n",
       "  </tbody>\n",
       "</table>\n",
       "</div>"
      ],
      "text/plain": [
       "                        customer_id            timestamp  payment  \\\n",
       "0  00012a2ce6f8dcda20d059ce98491703  2017-11-14 16:08:26   114.74   \n",
       "1  000161a058600d5901f007fab4c27140  2017-07-16 09:40:32    67.41   \n",
       "2  0001fd6190edaaf884bcaf3d49edf079  2017-02-28 11:06:43   195.42   \n",
       "3  0002414f95344307404f0ace7a26f1d5  2017-08-16 13:09:20   179.35   \n",
       "4  000379cdec625522490c315e70c7a9fb  2018-04-02 13:42:17   107.01   \n",
       "\n",
       "   avg_cumulative_payment  \n",
       "0              114.739998  \n",
       "1               67.410004  \n",
       "2              195.419998  \n",
       "3              179.350006  \n",
       "4              107.010002  "
      ]
     },
     "execution_count": 19,
     "metadata": {},
     "output_type": "execute_result"
    }
   ],
   "source": [
    "query = '''WITH customer_purchase_record as (Select customer_id,order_purchase_timestamp,payment_value FROM orders o JOIN payments p ON o.order_id = \n",
    "           p.order_id) SELECT *,avg(payment_value) OVER(partition by customer_id ORder by order_purchase_timestamp rows between unbounded \n",
    "           preceding and current row) as avg_value FROM customer_purchase_record;'''\n",
    "cur.execute(query)\n",
    "data = cur.fetchall()\n",
    "df = pd.DataFrame(data,columns=['customer_id','timestamp','payment','avg_cumulative_payment'])\n",
    "df.head()"
   ]
  },
  {
   "cell_type": "markdown",
   "id": "95f4f359-6595-466c-ada7-67ab043797d5",
   "metadata": {},
   "source": [
    "# Calculate the cumulative sales per month for each year."
   ]
  },
  {
   "cell_type": "code",
   "execution_count": 24,
   "id": "d656032c-eccb-4f45-a4c7-a3c45b982664",
   "metadata": {},
   "outputs": [
    {
     "data": {
      "text/html": [
       "<div>\n",
       "<style scoped>\n",
       "    .dataframe tbody tr th:only-of-type {\n",
       "        vertical-align: middle;\n",
       "    }\n",
       "\n",
       "    .dataframe tbody tr th {\n",
       "        vertical-align: top;\n",
       "    }\n",
       "\n",
       "    .dataframe thead th {\n",
       "        text-align: right;\n",
       "    }\n",
       "</style>\n",
       "<table border=\"1\" class=\"dataframe\">\n",
       "  <thead>\n",
       "    <tr style=\"text-align: right;\">\n",
       "      <th></th>\n",
       "      <th>Year</th>\n",
       "      <th>Month</th>\n",
       "      <th>cumulative_revenue</th>\n",
       "    </tr>\n",
       "  </thead>\n",
       "  <tbody>\n",
       "    <tr>\n",
       "      <th>0</th>\n",
       "      <td>2016</td>\n",
       "      <td>9</td>\n",
       "      <td>252.239994</td>\n",
       "    </tr>\n",
       "    <tr>\n",
       "      <th>1</th>\n",
       "      <td>2016</td>\n",
       "      <td>10</td>\n",
       "      <td>59342.719993</td>\n",
       "    </tr>\n",
       "    <tr>\n",
       "      <th>2</th>\n",
       "      <td>2016</td>\n",
       "      <td>12</td>\n",
       "      <td>59362.339994</td>\n",
       "    </tr>\n",
       "    <tr>\n",
       "      <th>3</th>\n",
       "      <td>2017</td>\n",
       "      <td>1</td>\n",
       "      <td>138488.040064</td>\n",
       "    </tr>\n",
       "    <tr>\n",
       "      <th>4</th>\n",
       "      <td>2017</td>\n",
       "      <td>2</td>\n",
       "      <td>430396.049571</td>\n",
       "    </tr>\n",
       "  </tbody>\n",
       "</table>\n",
       "</div>"
      ],
      "text/plain": [
       "   Year  Month  cumulative_revenue\n",
       "0  2016      9          252.239994\n",
       "1  2016     10        59342.719993\n",
       "2  2016     12        59362.339994\n",
       "3  2017      1       138488.040064\n",
       "4  2017      2       430396.049571"
      ]
     },
     "execution_count": 24,
     "metadata": {},
     "output_type": "execute_result"
    }
   ],
   "source": [
    "query = '''WITH A as (SELECT YEAR(order_purchase_timestamp) as year,Month(order_purchase_timestamp) as mnth, SUM(payment_value) as monthly_revenue \n",
    "           FROM orders o JOIN payments p ON p.order_id = o.order_id GROUP BY year,mnth ORDER BY year,mnth) SELECT year,mnth ,SUM(monthly_revenue) \n",
    "           OVER(partition by year order by mnth) as cum_revenue FROM A ;'''\n",
    "cur.execute(query)\n",
    "data = cur.fetchall()\n",
    "df = pd.DataFrame(data,columns=['Year','Month','cumulative_revenue'])\n",
    "df.head()"
   ]
  },
  {
   "cell_type": "markdown",
   "id": "1b4899e6-776e-4b83-8b21-1949db10df7f",
   "metadata": {},
   "source": [
    "# Calculate the year-over-year growth rate of total sales."
   ]
  },
  {
   "cell_type": "code",
   "execution_count": 4,
   "id": "9bb277ba-870e-481b-b9c6-b78660ad04e4",
   "metadata": {},
   "outputs": [
    {
     "data": {
      "text/html": [
       "<div>\n",
       "<style scoped>\n",
       "    .dataframe tbody tr th:only-of-type {\n",
       "        vertical-align: middle;\n",
       "    }\n",
       "\n",
       "    .dataframe tbody tr th {\n",
       "        vertical-align: top;\n",
       "    }\n",
       "\n",
       "    .dataframe thead th {\n",
       "        text-align: right;\n",
       "    }\n",
       "</style>\n",
       "<table border=\"1\" class=\"dataframe\">\n",
       "  <thead>\n",
       "    <tr style=\"text-align: right;\">\n",
       "      <th></th>\n",
       "      <th>Year</th>\n",
       "      <th>yearly_revenue</th>\n",
       "      <th>yoy_growth_prcnt</th>\n",
       "    </tr>\n",
       "  </thead>\n",
       "  <tbody>\n",
       "    <tr>\n",
       "      <th>0</th>\n",
       "      <td>2016</td>\n",
       "      <td>59362.34</td>\n",
       "      <td>NaN</td>\n",
       "    </tr>\n",
       "    <tr>\n",
       "      <th>1</th>\n",
       "      <td>2017</td>\n",
       "      <td>7249746.73</td>\n",
       "      <td>99.0</td>\n",
       "    </tr>\n",
       "    <tr>\n",
       "      <th>2</th>\n",
       "      <td>2018</td>\n",
       "      <td>8699763.05</td>\n",
       "      <td>16.0</td>\n",
       "    </tr>\n",
       "  </tbody>\n",
       "</table>\n",
       "</div>"
      ],
      "text/plain": [
       "   Year  yearly_revenue  yoy_growth_prcnt\n",
       "0  2016        59362.34               NaN\n",
       "1  2017      7249746.73              99.0\n",
       "2  2018      8699763.05              16.0"
      ]
     },
     "execution_count": 4,
     "metadata": {},
     "output_type": "execute_result"
    }
   ],
   "source": [
    "query = '''WIth A as (SELECT YEAR(order_purchase_timestamp) as year, ROUND(SUM(payment_value),2) as yearly_revenue FROM orders o JOIN payments p \n",
    "          ON p.order_id = o.order_id GROUP BY year ) SELECT A.*,(yearly_revenue-LAG(yearly_revenue) OVER())*100 DIV yearly_revenue as \n",
    "          yoy_growth_prcnt FROM A ORDER BY year;'''\n",
    "cur.execute(query)\n",
    "data = cur.fetchall()\n",
    "df = pd.DataFrame(data,columns=['Year','yearly_revenue','yoy_growth_prcnt'])\n",
    "df.head()"
   ]
  },
  {
   "cell_type": "code",
   "execution_count": null,
   "id": "6af8e378-2f9b-485d-93e2-80475d8ce422",
   "metadata": {},
   "outputs": [],
   "source": []
  },
  {
   "cell_type": "markdown",
   "id": "47592d01-e2ba-4613-804d-ef014c5f2c40",
   "metadata": {},
   "source": [
    "# Identify the top 3 customers who spent the most money in each year."
   ]
  },
  {
   "cell_type": "code",
   "execution_count": null,
   "id": "4efaec1b-0dc6-4244-b50b-0f0b74bf2700",
   "metadata": {},
   "outputs": [],
   "source": []
  },
  {
   "cell_type": "code",
   "execution_count": null,
   "id": "f5b87fb5-da1d-4eac-96af-6265cd24d9f0",
   "metadata": {},
   "outputs": [],
   "source": []
  },
  {
   "cell_type": "code",
   "execution_count": null,
   "id": "e7aa32fa-f57a-46b7-a31b-40df2ce72a91",
   "metadata": {},
   "outputs": [],
   "source": []
  },
  {
   "cell_type": "code",
   "execution_count": null,
   "id": "3d13a1b7-6ad4-4917-830f-e06b732c740d",
   "metadata": {},
   "outputs": [],
   "source": []
  },
  {
   "cell_type": "code",
   "execution_count": null,
   "id": "72f1b3af-86c0-4c1c-8a96-0f8fbfc34e30",
   "metadata": {},
   "outputs": [],
   "source": []
  },
  {
   "cell_type": "code",
   "execution_count": null,
   "id": "c9a7f21a-a1a7-432c-8721-e39fdef9cd9a",
   "metadata": {},
   "outputs": [],
   "source": []
  },
  {
   "cell_type": "code",
   "execution_count": null,
   "id": "cba63f5c-c2b0-49e2-bab0-3caaef65376b",
   "metadata": {},
   "outputs": [],
   "source": []
  },
  {
   "cell_type": "code",
   "execution_count": null,
   "id": "9023d1f2-41b4-473f-b8dd-137a03792440",
   "metadata": {},
   "outputs": [],
   "source": []
  },
  {
   "cell_type": "code",
   "execution_count": null,
   "id": "e8a1e7d6-b12b-4f69-aa7c-2f30c69ca3e8",
   "metadata": {},
   "outputs": [],
   "source": []
  },
  {
   "cell_type": "code",
   "execution_count": null,
   "id": "0d51b9e7-a44e-4704-afdb-871dd4bb8e62",
   "metadata": {},
   "outputs": [],
   "source": []
  },
  {
   "cell_type": "code",
   "execution_count": null,
   "id": "1d0aee26-fa02-4fd1-a600-eb16b9e0fb95",
   "metadata": {},
   "outputs": [],
   "source": []
  },
  {
   "cell_type": "code",
   "execution_count": null,
   "id": "6a3cbbbd-6ecb-4b75-8ef1-5ab185ed4a27",
   "metadata": {},
   "outputs": [],
   "source": []
  },
  {
   "cell_type": "code",
   "execution_count": null,
   "id": "265e976d-47b5-412d-afc1-7bc29db7fe10",
   "metadata": {},
   "outputs": [],
   "source": []
  },
  {
   "cell_type": "code",
   "execution_count": null,
   "id": "66c8f09c-88f3-437d-8bb2-87037850ec59",
   "metadata": {},
   "outputs": [],
   "source": []
  },
  {
   "cell_type": "code",
   "execution_count": null,
   "id": "d7306144-f076-402c-bdba-463fc8c51e2a",
   "metadata": {},
   "outputs": [],
   "source": []
  },
  {
   "cell_type": "code",
   "execution_count": null,
   "id": "717140e4-c0c3-4dc0-9536-991b43a5ac52",
   "metadata": {},
   "outputs": [],
   "source": []
  },
  {
   "cell_type": "code",
   "execution_count": null,
   "id": "1f585af5-1a2a-437f-b5fb-0851eae5aa7a",
   "metadata": {},
   "outputs": [],
   "source": []
  },
  {
   "cell_type": "code",
   "execution_count": null,
   "id": "f46d42e6-2bb2-49a5-8a6f-1624fbcd62ea",
   "metadata": {},
   "outputs": [],
   "source": []
  }
 ],
 "metadata": {
  "kernelspec": {
   "display_name": "Python 3 (ipykernel)",
   "language": "python",
   "name": "python3"
  },
  "language_info": {
   "codemirror_mode": {
    "name": "ipython",
    "version": 3
   },
   "file_extension": ".py",
   "mimetype": "text/x-python",
   "name": "python",
   "nbconvert_exporter": "python",
   "pygments_lexer": "ipython3",
   "version": "3.13.2"
  }
 },
 "nbformat": 4,
 "nbformat_minor": 5
}
